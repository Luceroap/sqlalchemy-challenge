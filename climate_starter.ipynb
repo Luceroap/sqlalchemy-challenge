{
 "cells": [
  {
   "cell_type": "code",
   "execution_count": 190,
   "source": [
    "%matplotlib inline\r\n",
    "from matplotlib import style\r\n",
    "style.use('fivethirtyeight')\r\n",
    "import matplotlib.pyplot as plt"
   ],
   "outputs": [],
   "metadata": {}
  },
  {
   "cell_type": "code",
   "execution_count": 191,
   "source": [
    "import numpy as np\r\n",
    "import pandas as pd\r\n",
    "import datetime as dt\r\n",
    "from datetime import timedelta\r\n"
   ],
   "outputs": [],
   "metadata": {}
  },
  {
   "cell_type": "markdown",
   "source": [
    "# Reflect Tables into SQLAlchemy ORM"
   ],
   "metadata": {}
  },
  {
   "cell_type": "code",
   "execution_count": 192,
   "source": [
    "# Python SQL toolkit and Object Relational Mapper\r\n",
    "import sqlalchemy\r\n",
    "from sqlalchemy.ext.automap import automap_base\r\n",
    "from sqlalchemy.orm import Session\r\n",
    "from sqlalchemy import create_engine, func"
   ],
   "outputs": [],
   "metadata": {}
  },
  {
   "cell_type": "code",
   "execution_count": 193,
   "source": [
    "# create engine to hawaii.sqlite\r\n",
    "engine = create_engine(\"sqlite:///Resources/hawaii.sqlite\")"
   ],
   "outputs": [],
   "metadata": {}
  },
  {
   "cell_type": "code",
   "execution_count": 194,
   "source": [
    "# reflect an existing database into a new model\r\n",
    "Base = automap_base()\r\n",
    "# reflect the tables\r\n",
    "Base.prepare(engine, reflect=True)"
   ],
   "outputs": [],
   "metadata": {}
  },
  {
   "cell_type": "code",
   "execution_count": 195,
   "source": [
    "# View all of the classes that automap found\r\n",
    "Base.classes.keys()"
   ],
   "outputs": [
    {
     "output_type": "execute_result",
     "data": {
      "text/plain": [
       "['measurement', 'station']"
      ]
     },
     "metadata": {},
     "execution_count": 195
    }
   ],
   "metadata": {}
  },
  {
   "cell_type": "markdown",
   "source": [
    "['measurement', 'station']"
   ],
   "metadata": {}
  },
  {
   "cell_type": "code",
   "execution_count": 196,
   "source": [
    "# Save references to each table\r\n",
    "Measurement = Base.classes.measurement\r\n",
    "Station = Base.classes.station"
   ],
   "outputs": [],
   "metadata": {}
  },
  {
   "cell_type": "code",
   "execution_count": 197,
   "source": [
    "# Create our session (link) from Python to the DB\r\n",
    "Session = Session(engine)\r\n"
   ],
   "outputs": [],
   "metadata": {}
  },
  {
   "cell_type": "markdown",
   "source": [
    "# Exploratory Precipitation Analysis"
   ],
   "metadata": {}
  },
  {
   "cell_type": "code",
   "execution_count": 198,
   "source": [
    "# Find the most recent date in the data set.\r\n",
    "\r\n",
    "#df = pd.DataFrame()\r\n",
    "##df['StartDate'] = pd.to_datetime(df['StartDate'])\r\n",
    "#least_recent_date = df['StartDate'].min()\r\n",
    "#most_recent_date = df['StartDate'].max()\r\n",
    "last_Date = Session.execute(\"SELECT MAX(date) FROM Measurement\").fetchall()[0][0]\r\n",
    "Start_Date = Session.execute('SELECT MIN(date) FROM Measurement').fetchall()[0][0]\r\n",
    "print(last_Date)\r\n"
   ],
   "outputs": [
    {
     "output_type": "stream",
     "name": "stdout",
     "text": [
      "2017-08-23\n"
     ]
    }
   ],
   "metadata": {}
  },
  {
   "cell_type": "code",
   "execution_count": 199,
   "source": [
    "# Design a query to retrieve the last 12 months of precipitation data and plot the results. \r\n",
    "# Starting from the most recent data point in the database. \r\n",
    "last_Date = Session.execute(\"SELECT MAX(date) FROM Measurement\").fetchall()[0][0]\r\n",
    "date_year_ago = dt.datetime.strptime(last_Date, \"%Y-%m-%d\")\r\n",
    "date_year_ago = date_year_ago - timedelta(days=365)\r\n",
    "date_year_ago = date_year_ago.strftime(\"%Y-%m-%d\")\r\n",
    "\r\n",
    "print(date_year_ago)\r\n",
    "PRCP_data = Session.query(Measurement.date,Measurement.prcp)\\\r\n",
    "                          .filter(Measurement.date <= last_Date)\\\r\n",
    "                          .filter(Measurement.date >= date_year_ago)\\\r\n",
    "                          .order_by(Measurement.date.desc()).all()\r\n",
    "date_Col = []\r\n",
    "pec_Col = []\r\n",
    "\r\n",
    "for d in PRCP_data:\r\n",
    "    date_Col.append(d[0])\r\n",
    "    pec_Col.append(d[1])\r\n",
    "df = pd.DataFrame(list(zip(date_Col, pec_Col)),\r\n",
    "               columns =['Date', 'Percipitation'])\r\n",
    "\r\n",
    "\r\n",
    "# Calculate the date one year from the last date in data set.\r\n",
    "plt.bar(df[\"Date\"],df[\"Percipitation\"])\r\n",
    "plt.show()\r\n",
    "\r\n",
    "\r\n",
    "# Perform a query to retrieve the data and precipitation scores\r\n",
    "\r\n",
    "\r\n",
    "# Save the query results as a Pandas DataFrame and set the index to the date column\r\n",
    "\r\n",
    "\r\n",
    "# Sort the dataframe by date\r\n",
    "\r\n",
    "\r\n",
    "# Use Pandas Plotting with Matplotlib to plot the data\r\n",
    "\r\n",
    "\r\n"
   ],
   "outputs": [
    {
     "output_type": "stream",
     "name": "stdout",
     "text": [
      "2016-08-23\n"
     ]
    },
    {
     "output_type": "display_data",
     "data": {
      "text/plain": [
       "<Figure size 432x288 with 1 Axes>"
      ],
      "image/png": "[encoded data removed]"
     },
     "metadata": {}
    }
   ],
   "metadata": {}
  },
  {
   "cell_type": "code",
   "execution_count": 213,
   "source": [
    "# Use Pandas to calcualte the summary statistics for the precipitation data\r\n",
    "col_names = ['mean','median','var','std']\r\n",
    "sum_df = pd.DataFrame(columns = col_names)\r\n",
    "mean = df['Percipitation' ].mean()\r\n",
    "median = df['Percipitation' ].median()\r\n",
    "std = df['Percipitation' ].std()\r\n",
    "print(\"Mean: \" + str(mean))\r\n",
    "print(\"Median: \" + str(median))\r\n",
    "print(\"STD: \" + str(std))\r\n",
    "\r\n"
   ],
   "outputs": [
    {
     "output_type": "stream",
     "name": "stdout",
     "text": [
      "Mean: 0.17727857496288965\n",
      "Median: 0.02\n",
      "STD: 0.4611895038877035\n"
     ]
    }
   ],
   "metadata": {}
  },
  {
   "cell_type": "markdown",
   "source": [
    "# Exploratory Station Analysis"
   ],
   "metadata": {}
  },
  {
   "cell_type": "code",
   "execution_count": 223,
   "source": [
    "# Design a query to calculate the total number stations in the dataset\r\n",
    "PRCP_data = Session.query(Station.station)\r\n",
    "station_list = []\r\n",
    "for stations in PRCP_data:\r\n",
    "    station_list.append(stations[0])\r\n",
    "\r\n",
    "print(np.unique(station_list).size)\r\n"
   ],
   "outputs": [
    {
     "output_type": "stream",
     "name": "stdout",
     "text": [
      "9\n"
     ]
    }
   ],
   "metadata": {}
  },
  {
   "cell_type": "code",
   "execution_count": 224,
   "source": [
    "# Design a query to find the most active stations (i.e. what stations have the most rows?)\r\n",
    "# List the stations and the counts in descending order.\r\n",
    "PRCP_data = Session.query(Measurement.station).all()\r\n",
    "station_list = []\r\n",
    "for stations in PRCP_data:\r\n",
    "    station_list.append(stations[0])\r\n",
    "unq_stations = np.unique(station_list)\r\n",
    "station_dict = {}\r\n",
    "for s in unq_stations:\r\n",
    "    station_dict[s] = 0\r\n",
    "for s in station_list:\r\n",
    "    station_dict[s] = station_dict[s] + 1\r\n",
    "print(station_dict)\r\n",
    "\r\n"
   ],
   "outputs": [
    {
     "output_type": "stream",
     "name": "stdout",
     "text": [
      "{'USC00511918': 1979, 'USC00513117': 2709, 'USC00514830': 2202, 'USC00516128': 2612, 'USC00517948': 1372, 'USC00518838': 511, 'USC00519281': 2772, 'USC00519397': 2724, 'USC00519523': 2669}\n"
     ]
    }
   ],
   "metadata": {}
  },
  {
   "cell_type": "code",
   "execution_count": 238,
   "source": [
    "# Using the most active station id from the previous query, calculate the lowest, highest, and average temperature.\r\n",
    "max_station_count = 0\r\n",
    "most_active = \"\"\r\n",
    "for unq in unq_stations:\r\n",
    "    if station_dict[unq] > max_station_count:\r\n",
    "        max_station_count = station_dict[unq]\r\n",
    "        most_active = unq\r\n",
    "\r\n",
    "PRCP_data = Session.query(Measurement.station, Measurement.tobs).filter(Measurement.station == most_active)\r\n",
    "temp_list = []\r\n",
    "for t in PRCP_data:\r\n",
    "    temp_list.append(t[1])\r\n",
    "print(\"Max:\" + str(max(temp_list)))\r\n",
    "print(\"min:\" + str(min(temp_list)))\r\n",
    "print(\"Average:\" + str(sum(temp_list) / len(temp_list)))\r\n",
    "\r\n",
    "\r\n",
    "\r\n"
   ],
   "outputs": [
    {
     "output_type": "stream",
     "name": "stdout",
     "text": [
      "Max:85.0\n",
      "min:54.0\n",
      "Average:71.66378066378067\n"
     ]
    }
   ],
   "metadata": {}
  },
  {
   "cell_type": "code",
   "execution_count": 246,
   "source": [
    "# Using the most active station id\r\n",
    "# Query the last 12 months of temperature observation data for this station and plot the results as a histogram\r\n",
    "PRCP_data = Session.query(Measurement.date)\\\r\n",
    "    .filter(Measurement.station == most_active).order_by(Measurement.date.asc()).all()\r\n",
    "last_Date = PRCP_data[0][0]\r\n",
    "date_year_ago = dt.datetime.strptime(last_Date, \"%Y-%m-%d\")\r\n",
    "date_year_ago = date_year_ago - timedelta(days=365)\r\n",
    "date_year_ago = date_year_ago.strftime(\"%Y-%m-%d\")\r\n",
    "\r\n",
    "print(date_year_ago)\r\n",
    "PRCP_data = Session.query(Measurement.date,Measurement.tobs)\\\r\n",
    "                        .filter(Measurement.station == most_active)\\\r\n",
    "                        .filter(Measurement.date <= last_Date)\\\r\n",
    "                        .filter(Measurement.date >= date_year_ago)\\\r\n",
    "                        .order_by(Measurement.date.desc()).all()\r\n",
    "date_Col = []\r\n",
    "tobs_Col = []\r\n",
    "\r\n",
    "for d in PRCP_data:\r\n",
    "    date_Col.append(d[0])\r\n",
    "    tobs_Col.append(d[1])\r\n",
    "df = pd.DataFrame(list(zip(date_Col, tobs_Col)),\r\n",
    "               columns =['Date', 'temp'])\r\n",
    "\r\n",
    "\r\n",
    "plt.bar(df[\"Date\"],df[\"temp\"])\r\n",
    "plt.show()\r\n",
    "                        "
   ],
   "outputs": [
    {
     "output_type": "stream",
     "name": "stdout",
     "text": [
      "2009-01-01\n"
     ]
    },
    {
     "output_type": "display_data",
     "data": {
      "text/plain": [
       "<Figure size 432x288 with 1 Axes>"
      ],
      "image/png": "[encoded data removed]"
     },
     "metadata": {}
    }
   ],
   "metadata": {}
  },
  {
   "cell_type": "markdown",
   "source": [
    "# Close session"
   ],
   "metadata": {}
  },
  {
   "cell_type": "code",
   "execution_count": 230,
   "source": [
    "# Close Session\r\n",
    "session.close()"
   ],
   "outputs": [
    {
     "output_type": "error",
     "ename": "NameError",
     "evalue": "name 'session' is not defined",
     "traceback": [
      "\u001b[1;31m---------------------------------------------------------------------------\u001b[0m",
      "\u001b[1;31mNameError\u001b[0m                                 Traceback (most recent call last)",
      "\u001b[1;32m<ipython-input-230-57ac9427224b>\u001b[0m in \u001b[0;36m<module>\u001b[1;34m\u001b[0m\n\u001b[0;32m      1\u001b[0m \u001b[1;31m# Close Session\u001b[0m\u001b[1;33m\u001b[0m\u001b[1;33m\u001b[0m\u001b[1;33m\u001b[0m\u001b[0m\n\u001b[1;32m----> 2\u001b[1;33m \u001b[0msession\u001b[0m\u001b[1;33m.\u001b[0m\u001b[0mclose\u001b[0m\u001b[1;33m(\u001b[0m\u001b[1;33m)\u001b[0m\u001b[1;33m\u001b[0m\u001b[1;33m\u001b[0m\u001b[0m\n\u001b[0m",
      "\u001b[1;31mNameError\u001b[0m: name 'session' is not defined"
     ]
    }
   ],
   "metadata": {}
  },
  {
   "cell_type": "code",
   "execution_count": null,
   "source": [],
   "outputs": [],
   "metadata": {}
  }
 ],
 "metadata": {
  "anaconda-cloud": {},
  "kernel_info": {
   "name": "python3"
  },
  "kernelspec": {
   "name": "python3",
   "display_name": "Python 3.6.10 64-bit ('PythonData': conda)"
  },
  "language_info": {
   "codemirror_mode": {
    "name": "ipython",
    "version": 3
   },
   "file_extension": ".py",
   "mimetype": "text/x-python",
   "name": "python",
   "nbconvert_exporter": "python",
   "pygments_lexer": "ipython3",
   "version": "3.6.10"
  },
  "nteract": {
   "version": "0.12.3"
  },
  "varInspector": {
   "cols": {
    "lenName": 16,
    "lenType": 16,
    "lenVar": 40
   },
   "kernels_config": {
    "python": {
     "delete_cmd_postfix": "",
     "delete_cmd_prefix": "del ",
     "library": "var_list.py",
     "varRefreshCmd": "print(var_dic_list())"
    },
    "r": {
     "delete_cmd_postfix": ") ",
     "delete_cmd_prefix": "rm(",
     "library": "var_list.r",
     "varRefreshCmd": "cat(var_dic_list()) "
    }
   },
   "types_to_exclude": [
    "module",
    "function",
    "builtin_function_or_method",
    "instance",
    "_Feature"
   ],
   "window_display": false
  },
  "interpreter": {
   "hash": "f1a332ba46dd188da723af48cf43ed64bcc5970235cd045fb21461f31c8e71d8"
  }
 },
 "nbformat": 4,
 "nbformat_minor": 2
}